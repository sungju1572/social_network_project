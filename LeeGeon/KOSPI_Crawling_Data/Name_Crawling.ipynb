{
 "cells": [
  {
   "cell_type": "code",
   "execution_count": 1,
   "metadata": {},
   "outputs": [],
   "source": [
    "#-------------사용할 패키지-------------#\n",
    "from bs4 import BeautifulSoup\n",
    "import csv\n",
    "import os\n",
    "import re\n",
    "import requests"
   ]
  },
  {
   "cell_type": "code",
   "execution_count": 2,
   "metadata": {},
   "outputs": [],
   "source": [
    "#-------------종목 이름들이 존재하는 부분의 url-------------#\n",
    "BaseUrl=\"http://finance.naver.com/sise/entryJongmok.nhn?&page=\""
   ]
  },
  {
   "cell_type": "code",
   "execution_count": 3,
   "metadata": {},
   "outputs": [
    {
     "data": {
      "text/plain": [
       "('005930', '삼성전자')"
      ]
     },
     "execution_count": 3,
     "metadata": {},
     "output_type": "execute_result"
    }
   ],
   "source": [
    "#-------------1개 추출 연습-------------#\n",
    "url=BaseUrl+str(1)\n",
    "r=requests.get(url)\n",
    "soup=BeautifulSoup(r.text,'lxml')\n",
    "items=soup.find_all('td',{'class':'ctg'})\n",
    "\n",
    "item=items[0]\n",
    "txt=item.a.get('href')\n",
    "k=re.search('[\\d]+',txt) # 기업 code 찾기\n",
    "\n",
    "code=k.group()\n",
    "name=item.text\n",
    "\n",
    "code,name"
   ]
  },
  {
   "cell_type": "code",
   "execution_count": 4,
   "metadata": {},
   "outputs": [],
   "source": [
    "#-------------실전-------------#\n",
    "if os.path.exists('KOSPI200.csv'):\n",
    "    os.remove('KOSPI200.csv')  \n",
    "# KOSPI200.csv란 파일이 이미 존재하면 지우고 다시 만들기\n",
    "\n",
    "for i in range(1,22,1): # 1~21페이지까지의 전체 기업 추출\n",
    "    url=BaseUrl+str(i)\n",
    "    r=requests.get(url)\n",
    "    soup=BeautifulSoup(r.text,'lxml')\n",
    "    items=soup.find_all('td',{'class':'ctg'})\n",
    "    \n",
    "    for item in items:\n",
    "        txt=item.a.get('href')\n",
    "        k=re.search('[\\d]+',txt)\n",
    "        \n",
    "        code=k.group()\n",
    "        name=item.text\n",
    "        data=code,name\n",
    "\n",
    "        with open('KOSPI200.csv','a',newline='',encoding='utf-8') as f: # KOSPI200.csv에 결과 저장\n",
    "            writer=csv.writer(f)\n",
    "            writer.writerow(data)"
   ]
  }
 ],
 "metadata": {
  "kernelspec": {
   "display_name": "Python 3",
   "language": "python",
   "name": "python3"
  },
  "language_info": {
   "codemirror_mode": {
    "name": "ipython",
    "version": 3
   },
   "file_extension": ".py",
   "mimetype": "text/x-python",
   "name": "python",
   "nbconvert_exporter": "python",
   "pygments_lexer": "ipython3",
   "version": "3.8.5"
  }
 },
 "nbformat": 4,
 "nbformat_minor": 4
}
